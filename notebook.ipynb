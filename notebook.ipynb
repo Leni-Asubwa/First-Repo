{
 "cells": [
  {
   "cell_type": "markdown",
   "id": "3a2a341a",
   "metadata": {},
   "source": [
    "\n",
    "## 🏪 Coffee Sales Analysis.\n",
    "---\n",
    "\n",
    "### 1. Business Understanding ☕️\n",
    "\n",
    "Before touching the data, ask:\n",
    "\n",
    "* What problem am I solving?\n",
    "* Who will use the insights?\n",
    "* What decisions depend on the data?\n",
    "\n",
    "**Example Questions (KPIs):**\n",
    "\n",
    "* Which coffee type is most popular?\n",
    "* How much revenue comes from each coffee type?\n",
    "* Are sales increasing during certain hours of the day?\n",
    "\n",
    "**Your Goal:** Align the analysis with a *business question*.\n",
    "\n",
    "---"
   ]
  },
  {
   "cell_type": "code",
   "execution_count": null,
   "id": "ae125f24",
   "metadata": {},
   "outputs": [],
   "source": [
    "# Step 1: Import Libraries\n",
    "\n",
    "import pandas as pd\n",
    "import matplotlib.pyplot as plt"
   ]
  },
  {
   "cell_type": "code",
   "execution_count": null,
   "id": "469c92df",
   "metadata": {},
   "outputs": [],
   "source": [
    "# Step 2: Load Data \n",
    "\n",
    "# Load index_1.csv into a DataFrame\n",
    "df = pd.read_csv(\"index_1.csv\")\n",
    "\n",
    "# View the first few rows\n",
    "print(df.head())"
   ]
  },
  {
   "cell_type": "markdown",
   "id": "0a528495",
   "metadata": {},
   "source": [
    "### 2. Data Understanding 📊\n",
    "\n",
    "Now, check what the dataset contains.\n",
    "\n",
    "#### Step 1: Inspect the Data\n",
    "* `df.head()` → first rows (quick look).\n",
    "* `df.info()` → column types, missing values.\n",
    "* `df.describe()` → quick statistics (for numbers).\n",
    "\n",
    "#### Step 2: Understand Variables\n",
    "\n",
    "* **date/datetime** → time of purchase.\n",
    "* **cash\\_type** → type of payment (card/cash).\n",
    "* **card** → anonymized customer ID.\n",
    "* **money** → transaction amount.\n",
    "* **coffee\\_name** → type of coffee bought.\n",
    "\n",
    "**Your Task:** Relate these to your *business questions*.\n",
    "\n",
    "---"
   ]
  },
  {
   "cell_type": "code",
   "execution_count": null,
   "id": "b1305f33",
   "metadata": {},
   "outputs": [],
   "source": [
    "# Step 3: Initial Exploration: understand the structure of the data.\n",
    "# Know how many rows and columns are in the dataset. Check for missing values. \n",
    "# Understand the data types of each column."
   ]
  },
  {
   "cell_type": "markdown",
   "id": "3e7080b8",
   "metadata": {},
   "source": [
    "\n",
    "### 3. Data Exploration 🔎\n",
    "\n",
    "Now start exploring patterns.\n",
    "\n",
    "#### Step 1: Univariate Exploration\n",
    "\n",
    "Look at one variable at a time.\n",
    "\n",
    "\n",
    "df['coffee_name'].value_counts()\n",
    "\n",
    "*Shows how many times each coffee was sold.*\n",
    "\n",
    "df['money'].hist()\n",
    "\n",
    "*Histogram of transaction amounts.*\n",
    "\n"
   ]
  },
  {
   "cell_type": "code",
   "execution_count": null,
   "id": "d86a5946",
   "metadata": {},
   "outputs": [],
   "source": [
    "# Explore one variable at a time. (columns)"
   ]
  },
  {
   "cell_type": "markdown",
   "id": "f881f3e0",
   "metadata": {},
   "source": [
    "#### Step 2: Bivariate Exploration\n",
    "\n",
    "Compare two variables.\n",
    "\n",
    "\n",
    "df.groupby('coffee_name')['money'].sum()\n",
    "\n",
    "*Total revenue per coffee type.*\n",
    "\n",
    "df.groupby('cash_type')['money'].sum()\n",
    "\n",
    "\n",
    "*Revenue by payment method.*\n",
    "\n",
    "---"
   ]
  },
  {
   "cell_type": "code",
   "execution_count": null,
   "id": "625a41e9",
   "metadata": {},
   "outputs": [],
   "source": [
    "# Explore relationships between variables. (columns)"
   ]
  },
  {
   "cell_type": "markdown",
   "id": "717def1a",
   "metadata": {},
   "source": [
    "### Step 3: Time-based Exploration\n",
    "\n",
    "Since you have dates, explore trends.\n",
    "\n",
    "\n",
    "df['date'] = pd.to_datetime(df['date'])\n",
    "daily_sales = df.groupby('date')['money'].sum()\n",
    "daily_sales.plot(kind='line')\n",
    "\n",
    "\n",
    "*Trend of total sales over time.*\n"
   ]
  },
  {
   "cell_type": "code",
   "execution_count": null,
   "id": "08019992",
   "metadata": {},
   "outputs": [],
   "source": [
    "# Check out the trend of the sales over time. (rows)\n",
    "#Check out for any hidden patterns."
   ]
  },
  {
   "cell_type": "markdown",
   "id": "c8daaa47",
   "metadata": {},
   "source": [
    "### 4. Data Presentation 📈\n",
    "\n",
    "Now, summarize insights clearly.\n",
    "\n",
    "* Use **bar charts** for categories (e.g., coffee types).\n",
    "* Use **line charts** for time trends.\n",
    "* Use **tables** for top 5 items or customers.\n",
    "\n"
   ]
  },
  {
   "cell_type": "markdown",
   "id": "682c793f",
   "metadata": {},
   "source": [
    "#### Example: Coffee Popularity\n",
    "\n",
    "'''\n",
    "\n",
    "import matplotlib.pyplot as plt\n",
    "\n",
    "df['coffee_name'].value_counts().plot(kind='bar')\n",
    "\n",
    "plt.title(\"Most Popular Coffees\")\n",
    "\n",
    "plt.show()\n",
    "\n",
    "'''"
   ]
  },
  {
   "cell_type": "code",
   "execution_count": null,
   "id": "7ea0c24b",
   "metadata": {},
   "outputs": [],
   "source": [
    "# plot a bar chart for the most popular coffee types."
   ]
  },
  {
   "cell_type": "markdown",
   "id": "f82a511d",
   "metadata": {},
   "source": [
    "#### Example: Revenue Trend\n",
    "\n",
    "daily_sales.plot(kind='line', figsize=(8,4), title=\"Daily Revenue\")"
   ]
  },
  {
   "cell_type": "code",
   "execution_count": null,
   "id": "68d03050",
   "metadata": {},
   "outputs": [],
   "source": [
    "# Plot a line chart for the revenue trend over time."
   ]
  },
  {
   "cell_type": "markdown",
   "id": "527a7925",
   "metadata": {},
   "source": [
    "### Answer These:\n",
    "\n",
    "- The most popular coffee is: `??` (replace after running value_counts).\n",
    "- Highest revenue comes from: `??`.\n",
    "- Peak sales occur during: `??` (based on datetime analysis).\n",
    "- Customers prefer: `??` (card or cash).\n",
    "\n",
    "This is how we turn raw data into **business insights**!"
   ]
  },
  {
   "cell_type": "markdown",
   "id": "7b712f42",
   "metadata": {},
   "source": [
    "## ✨Tips\n",
    "\n",
    "* Always start with **why** (business question).\n",
    "* Use **pandas** for exploration, **matplotlib/seaborn** for visuals.\n",
    "* Tell a **story** in the end: \"Latte and Hot Chocolate drive most revenue, with peak sales during midday.\"\n",
    "\n",
    "---"
   ]
  },
  {
   "cell_type": "markdown",
   "id": "5595a5a9",
   "metadata": {},
   "source": [
    "## Business Objectives Template\n",
    "\n",
    "### Primary Goal:\n",
    "[What is the main business problem we're solving?]\n",
    "\n",
    "### Success Metrics:\n",
    "[How will we measure success?]\n",
    "\n",
    "### Stakeholders:\n",
    "[Who cares about these results?]\n",
    "\n",
    "### Constraints:\n",
    "[What limitations do we have? Time, budget, data quality?]\n",
    "\n",
    "### Expected Outcomes:\n",
    "[What decisions will be made based on this analysis?]"
   ]
  },
  {
   "cell_type": "markdown",
   "id": "a781bff8",
   "metadata": {},
   "source": []
  }
 ],
 "metadata": {
  "kernelspec": {
   "display_name": "base",
   "language": "python",
   "name": "python3"
  },
  "language_info": {
   "codemirror_mode": {
    "name": "ipython",
    "version": 3
   },
   "file_extension": ".py",
   "mimetype": "text/x-python",
   "name": "python",
   "nbconvert_exporter": "python",
   "pygments_lexer": "ipython3",
   "version": "3.13.5"
  }
 },
 "nbformat": 4,
 "nbformat_minor": 5
}
